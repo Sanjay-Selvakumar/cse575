{
 "cells": [
  {
   "cell_type": "code",
   "execution_count": 57,
   "id": "114526de",
   "metadata": {},
   "outputs": [
    {
     "name": "stderr",
     "output_type": "stream",
     "text": [
      "/opt/anaconda3/lib/python3.9/site-packages/sklearn/linear_model/_logistic.py:1247: FutureWarning: 'multi_class' was deprecated in version 1.5 and will be removed in 1.7. From then on, it will always use 'multinomial'. Leave it to its default value to avoid this warning.\n",
      "  warnings.warn(\n",
      "/opt/anaconda3/lib/python3.9/site-packages/sklearn/linear_model/_logistic.py:1247: FutureWarning: 'multi_class' was deprecated in version 1.5 and will be removed in 1.7. From then on, it will always use 'multinomial'. Leave it to its default value to avoid this warning.\n",
      "  warnings.warn(\n",
      "/opt/anaconda3/lib/python3.9/site-packages/sklearn/linear_model/_logistic.py:1247: FutureWarning: 'multi_class' was deprecated in version 1.5 and will be removed in 1.7. From then on, it will always use 'multinomial'. Leave it to its default value to avoid this warning.\n",
      "  warnings.warn(\n",
      "/opt/anaconda3/lib/python3.9/site-packages/sklearn/linear_model/_logistic.py:1247: FutureWarning: 'multi_class' was deprecated in version 1.5 and will be removed in 1.7. From then on, it will always use 'multinomial'. Leave it to its default value to avoid this warning.\n",
      "  warnings.warn(\n",
      "/opt/anaconda3/lib/python3.9/site-packages/sklearn/linear_model/_logistic.py:1247: FutureWarning: 'multi_class' was deprecated in version 1.5 and will be removed in 1.7. From then on, it will always use 'multinomial'. Leave it to its default value to avoid this warning.\n",
      "  warnings.warn(\n",
      "/opt/anaconda3/lib/python3.9/site-packages/sklearn/linear_model/_logistic.py:1247: FutureWarning: 'multi_class' was deprecated in version 1.5 and will be removed in 1.7. From then on, it will always use 'multinomial'. Leave it to its default value to avoid this warning.\n",
      "  warnings.warn(\n",
      "/opt/anaconda3/lib/python3.9/site-packages/sklearn/linear_model/_logistic.py:1247: FutureWarning: 'multi_class' was deprecated in version 1.5 and will be removed in 1.7. From then on, it will always use 'multinomial'. Leave it to its default value to avoid this warning.\n",
      "  warnings.warn(\n",
      "/opt/anaconda3/lib/python3.9/site-packages/sklearn/linear_model/_logistic.py:1247: FutureWarning: 'multi_class' was deprecated in version 1.5 and will be removed in 1.7. From then on, it will always use 'multinomial'. Leave it to its default value to avoid this warning.\n",
      "  warnings.warn(\n",
      "/opt/anaconda3/lib/python3.9/site-packages/sklearn/linear_model/_logistic.py:1247: FutureWarning: 'multi_class' was deprecated in version 1.5 and will be removed in 1.7. From then on, it will always use 'multinomial'. Leave it to its default value to avoid this warning.\n",
      "  warnings.warn(\n",
      "/opt/anaconda3/lib/python3.9/site-packages/sklearn/linear_model/_logistic.py:1247: FutureWarning: 'multi_class' was deprecated in version 1.5 and will be removed in 1.7. From then on, it will always use 'multinomial'. Leave it to its default value to avoid this warning.\n",
      "  warnings.warn(\n"
     ]
    }
   ],
   "source": [
    "import pandas as pd\n",
    "import numpy as np\n",
    "from sklearn.model_selection import StratifiedKFold\n",
    "from sklearn.linear_model import LogisticRegression\n",
    "from sklearn.preprocessing import StandardScaler\n",
    "from sklearn.pipeline import Pipeline\n",
    "from sklearn.metrics import accuracy_score, classification_report, confusion_matrix\n",
    "import matplotlib.pyplot as plt\n",
    "from collections import defaultdict\n",
    "\n",
    "# Load your dataset\n",
    "df = pd.read_csv(\"data_Enhanced_Imputed.csv\")  # adjust this path if needed\n",
    "\n",
    "# Set up features and target\n",
    "X = df.drop(columns=['SubjectID', 'Label_Min', 'Label_Max'])  # drop ID and target columns\n",
    "y = df['Label_Min']  # use Label_Min as target (1–4)\n",
    "\n",
    "# Initialize 10-fold stratified cross-validation\n",
    "skf = StratifiedKFold(n_splits=10, shuffle=True, random_state=42)\n",
    "pipeline = Pipeline([\n",
    "    ('scaler', StandardScaler()),\n",
    "    ('logreg', LogisticRegression(multi_class='multinomial', solver='lbfgs', max_iter=1000))\n",
    "])\n",
    "\n",
    "# Store results\n",
    "all_true = []\n",
    "all_pred = []\n",
    "fold_details = []\n",
    "\n",
    "# Run CV\n",
    "for fold_idx, (train_idx, test_idx) in enumerate(skf.split(X, y), start=1):\n",
    "    X_train, X_test = X.iloc[train_idx], X.iloc[test_idx]\n",
    "    y_train, y_test = y.iloc[train_idx], y.iloc[test_idx]\n",
    "    \n",
    "    pipeline.fit(X_train, y_train)\n",
    "    y_pred = pipeline.predict(X_test)\n",
    "    \n",
    "    acc = accuracy_score(y_test, y_pred)\n",
    "    f1 = classification_report(y_test, y_pred, output_dict=True, zero_division=0)['weighted avg']['f1-score']\n",
    "    mae = np.mean(np.abs(y_test - y_pred))\n",
    "    \n",
    "    all_true.extend(y_test)\n",
    "    all_pred.extend(y_pred)\n",
    "    fold_details.append((fold_idx, acc, mae, f1))\n",
    "\n",
    "\n"
   ]
  },
  {
   "cell_type": "code",
   "execution_count": 58,
   "id": "edbb990c",
   "metadata": {},
   "outputs": [
    {
     "name": "stdout",
     "output_type": "stream",
     "text": [
      "Fold 1: Accuracy = 0.567, MAE = 0.633, F1-Score = 0.534\n",
      "Fold 2: Accuracy = 0.600, MAE = 0.500, F1-Score = 0.613\n",
      "Fold 3: Accuracy = 0.533, MAE = 0.700, F1-Score = 0.463\n",
      "Fold 4: Accuracy = 0.600, MAE = 0.667, F1-Score = 0.564\n",
      "Fold 5: Accuracy = 0.633, MAE = 0.633, F1-Score = 0.548\n",
      "Fold 6: Accuracy = 0.467, MAE = 0.900, F1-Score = 0.418\n",
      "Fold 7: Accuracy = 0.552, MAE = 0.724, F1-Score = 0.497\n",
      "Fold 8: Accuracy = 0.517, MAE = 0.759, F1-Score = 0.495\n",
      "Fold 9: Accuracy = 0.448, MAE = 1.000, F1-Score = 0.442\n",
      "Fold 10: Accuracy = 0.448, MAE = 0.862, F1-Score = 0.431\n",
      "\n",
      "---- 10 Fold Avg Results ----\n",
      "Accuracy: 0.537\n",
      "MAE: 0.738\n",
      "F1-score: 0.500\n",
      "\n",
      "Average Accuracy: 0.5366\n",
      "\n",
      "Average F1 Scores:\n",
      "  f1_class_1: 0.3167\n",
      "  f1_class_2: 0.6210\n",
      "  f1_class_3: 0.1626\n",
      "  f1_class_4: 0.5348\n",
      "\n",
      "Confusion Matrix:\n",
      "[[ 4  2  1  5]\n",
      " [ 1 98 11 26]\n",
      " [ 0 37  7  8]\n",
      " [ 1 42  3 50]]\n",
      "\n",
      "Full Classification Report:\n",
      "\n",
      "              precision    recall  f1-score   support\n",
      "\n",
      "           1       0.67      0.33      0.44        12\n",
      "           2       0.55      0.72      0.62       136\n",
      "           3       0.32      0.13      0.19        52\n",
      "           4       0.56      0.52      0.54        96\n",
      "\n",
      "    accuracy                           0.54       296\n",
      "   macro avg       0.52      0.43      0.45       296\n",
      "weighted avg       0.52      0.54      0.51       296\n",
      "\n"
     ]
    }
   ],
   "source": [
    "# Print per-fold results\n",
    "for fold_id, acc, mae, f1 in fold_details:\n",
    "    print(f\"Fold {fold_id}: Accuracy = {acc:.3f}, MAE = {mae:.3f}, F1-Score = {f1:.3f}\")\n",
    "\n",
    "# Average results\n",
    "avg_acc = np.mean([x[1] for x in fold_details])\n",
    "avg_mae = np.mean([x[2] for x in fold_details])\n",
    "avg_f1 = np.mean([x[3] for x in fold_details])\n",
    "\n",
    "print(\"\\n---- 10 Fold Avg Results ----\")\n",
    "print(f\"Accuracy: {avg_acc:.3f}\")\n",
    "print(f\"MAE: {avg_mae:.3f}\")\n",
    "print(f\"F1-score: {avg_f1:.3f}\")\n",
    "\n",
    "# Print results\n",
    "print(f\"\\nAverage Accuracy: {avg_accuracy:.4f}\")\n",
    "print(\"\\nAverage F1 Scores:\")\n",
    "for k, v in avg_f1_scores.items():\n",
    "    print(f\"  {k}: {v:.4f}\")\n",
    "\n",
    "print(\"\\nConfusion Matrix:\")\n",
    "print(conf_matrix)\n",
    "\n",
    "print(\"\\nFull Classification Report:\\n\")\n",
    "print(final_report)"
   ]
  },
  {
   "cell_type": "code",
   "execution_count": 59,
   "id": "3ee67396",
   "metadata": {},
   "outputs": [
    {
     "data": {
      "image/png": "[encoded data removed]",
      "text/plain": [
       "<Figure size 576x432 with 2 Axes>"
      ]
     },
     "metadata": {
      "needs_background": "light"
     },
     "output_type": "display_data"
    }
   ],
   "source": [
    "\n",
    "labels = [\"Class 1\", \"Class 2\", \"Class 3\", \"Class 4\"]\n",
    "\n",
    "plt.figure(figsize=(8, 6))\n",
    "plt.imshow(conf_matrix, interpolation='nearest', cmap=plt.cm.Blues)\n",
    "plt.title(\"Confusion Matrix - Logistic Regression\")\n",
    "plt.colorbar()\n",
    "tick_marks = np.arange(len(labels))\n",
    "plt.xticks(tick_marks, labels)\n",
    "plt.yticks(tick_marks, labels)\n",
    "\n",
    "thresh = conf_matrix.max() / 2\n",
    "for i in range(conf_matrix.shape[0]):\n",
    "    for j in range(conf_matrix.shape[1]):\n",
    "        plt.text(j, i, format(conf_matrix[i, j], 'd'),\n",
    "                 ha=\"center\", va=\"center\",\n",
    "                 color=\"white\" if conf_matrix[i, j] > thresh else \"black\")\n",
    "\n",
    "plt.ylabel('True Label')\n",
    "plt.xlabel('Predicted Label')\n",
    "plt.tight_layout()\n",
    "plt.show()"
   ]
  }
 ],
 "metadata": {
  "kernelspec": {
   "display_name": "Python 3 (ipykernel)",
   "language": "python",
   "name": "python3"
  },
  "language_info": {
   "codemirror_mode": {
    "name": "ipython",
    "version": 3
   },
   "file_extension": ".py",
   "mimetype": "text/x-python",
   "name": "python",
   "nbconvert_exporter": "python",
   "pygments_lexer": "ipython3",
   "version": "3.9.7"
  }
 },
 "nbformat": 4,
 "nbformat_minor": 5
}
